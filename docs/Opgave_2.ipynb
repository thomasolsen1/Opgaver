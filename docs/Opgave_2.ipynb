---
output: github_document
---

<!-- README.md is generated from README.Rmd. Please edit that file -->

```{r, include = FALSE}
knitr::opts_chunk$set(
  collapse = TRUE,
  comment = "#>",
  fig.path = "man/figures/README-",
  out.width = "100%"
)
```

# Chat

<!-- badges: start -->
<!-- badges: end -->

The goal of Chat is to make queries to OpenAI's API models. This package is still in development and is not yet on CRAN.

## Installation

You can install the development version of Chat from [GitHub](https://github.com/) with:

``` r
# install.packages("devtools")
devtools::install_github("thomasolsen1/Chat")
```

## Usage

This is a basic example which shows how to send a prompt to OpenAI's API model:
```{r}
library(Chat)

chat("What is an apple", 0.5, "gpt-3.5-turbo-0613")
```

The `chat` function is used to make queries to OpenAI's API models. The function takes three arguments:

- `message`: The message sent to OpenAI
- `temperature`: The sampling temperature, between 0 and 1. Higher values like 0.8 will make the output more random, while lower values like 0.2 will make it more focused and deterministic. If set to 0, the model will use log probability to automatically increase the temperature until certain thresholds are hit. (https://platform.openai.com/docs/api-reference/audio)
- `model`: The model of OpenAI's API to use

The function returns a dataframe containing the chosen message, temperature, model and the response from OpenAI's API models.


```{r}
library(Chat)

result <- chat("What is an apple", 0.5, "gpt-3.5-turbo-0613")
print(result)
```

#########################################

{
 "cells": [
  {
   "cell_type": "markdown",
   "metadata": {},
   "source": [
    "# Exercise 2"
   ]
  },
  {
   "cell_type": "markdown",
   "metadata": {},
   "source": [
    "Using the numpy function mean, calculate the mean of both \n",
    "x-values and y-values for each dataset.<br>\n",
    "Use python string formatting to print precisely two decimal places of these results to the output cell. Check out this stackoverflow page for help with the string formatting."
   ]
  },
  {
   "cell_type": "code",
   "execution_count": 59,
   "metadata": {},
   "outputs": [],
   "source": [
    "import pandas as pd\n",
    "import numpy as np\n",
    "import scipy.stats as st\n",
    "import matplotlib.pyplot as plt"
   ]
  },
  {
   "cell_type": "code",
   "execution_count": 38,
   "metadata": {},
   "outputs": [],
   "source": [
    "\n",
    "# read files\n",
    "data1 = pd.read_csv('C:/Users/thoma/Desktop/Social data analyse/data1.tsv', sep =\"\\t\")\n",
    "data2 = pd.read_csv('C:/Users/thoma/Desktop/Social data analyse/data2.tsv', sep =\"\\t\")\n",
    "data3 = pd.read_csv('C:/Users/thoma/Desktop/Social data analyse/data3.tsv', sep =\"\\t\")\n",
    "data4 = pd.read_csv('C:/Users/thoma/Desktop/Social data analyse/data4.tsv', sep =\"\\t\")"
   ]
  },
  {
   "cell_type": "code",
   "execution_count": 39,
   "metadata": {},
   "outputs": [
    {
     "name": "stdout",
     "output_type": "stream",
     "text": [
      "The mean of the x-values is 8.90.\n",
      "The mean of the y-values is 7.45.\n"
     ]
    }
   ],
   "source": [
    "# calculate means of x and y values of data1\n",
    "x_mean = np.mean(data1.iloc[:,0])\n",
    "\n",
    "# Print the results with two decimal places\n",
    "print(f\"The mean of the x-values is {x_mean:.2f}.\")\n",
    "\n",
    "# calculate means of x and y values of data1\n",
    "y_mean = np.mean(data1.iloc[:,1])\n",
    "\n",
    "# Print the results with two decimal places\n",
    "print(f\"The mean of the y-values is {y_mean:.2f}.\")\n",
    "\n"
   ]
  },
  {
   "cell_type": "code",
   "execution_count": 40,
   "metadata": {},
   "outputs": [
    {
     "name": "stdout",
     "output_type": "stream",
     "text": [
      "The mean of the x-values is 8.90.\n",
      "The mean of the y-values is 7.34.\n"
     ]
    }
   ],
   "source": [
    "# calculate means of x and y values of data2\n",
    "x_mean = np.mean(data2.iloc[:,0])\n",
    "\n",
    "# Print the results with two decimal places\n",
    "print(f\"The mean of the x-values is {x_mean:.2f}.\")\n",
    "\n",
    "# calculate means of x and y values of data1\n",
    "y_mean = np.mean(data2.iloc[:,1])\n",
    "\n",
    "# Print the results with two decimal places\n",
    "print(f\"The mean of the y-values is {y_mean:.2f}.\")"
   ]
  },
  {
   "cell_type": "code",
   "execution_count": 41,
   "metadata": {},
   "outputs": [
    {
     "name": "stdout",
     "output_type": "stream",
     "text": [
      "The mean of the x-values is 8.90.\n",
      "The mean of the y-values is 7.50.\n"
     ]
    }
   ],
   "source": [
    "# calculate means of x and y values of data3\n",
    "x_mean = np.mean(data3.iloc[:,0])\n",
    "\n",
    "# Print the results with two decimal places\n",
    "print(f\"The mean of the x-values is {x_mean:.2f}.\")\n",
    "\n",
    "# calculate means of x and y values of data1\n",
    "y_mean = np.mean(data3.iloc[:,1])\n",
    "\n",
    "# Print the results with two decimal places\n",
    "print(f\"The mean of the y-values is {y_mean:.2f}.\")"
   ]
  },
  {
   "cell_type": "code",
   "execution_count": 42,
   "metadata": {},
   "outputs": [
    {
     "name": "stdout",
     "output_type": "stream",
     "text": [
      "The mean of the x-values is 9.10.\n",
      "The mean of the y-values is 7.59.\n"
     ]
    }
   ],
   "source": [
    "# calculate means of x and y values of data4\n",
    "x_mean = np.mean(data4.iloc[:,0])\n",
    "\n",
    "# Print the results with two decimal places\n",
    "print(f\"The mean of the x-values is {x_mean:.2f}.\")\n",
    "\n",
    "# calculate means of x and y values of data1\n",
    "y_mean = np.mean(data4.iloc[:,1])\n",
    "\n",
    "# Print the results with two decimal places\n",
    "print(f\"The mean of the y-values is {y_mean:.2f}.\")"
   ]
  },
  {
   "cell_type": "markdown",
   "metadata": {},
   "source": [
    "Now calculate the variance for all of the various sets of x and y values, by using the numpy function var. Print it to three decimal places."
   ]
  },
  {
   "cell_type": "code",
   "execution_count": 43,
   "metadata": {},
   "outputs": [
    {
     "name": "stdout",
     "output_type": "stream",
     "text": [
      "The variance of the x-values is 10.890.\n",
      "The variance of the y-values is 4.095.\n"
     ]
    }
   ],
   "source": [
    "# calculate variances of data1\n",
    "x_var = np.var(data1.iloc[:,0])\n",
    "y_var = np.var(data1.iloc[:,1])\n",
    "\n",
    "# Print the results with three decimal places\n",
    "\n",
    "print(f\"The variance of the x-values is {x_var:.3f}.\")\n",
    "print(f\"The variance of the y-values is {y_var:.3f}.\")"
   ]
  },
  {
   "cell_type": "code",
   "execution_count": 44,
   "metadata": {},
   "outputs": [
    {
     "name": "stdout",
     "output_type": "stream",
     "text": [
      "The variance of the x-values is 10.890.\n",
      "The variance of the y-values is 3.832.\n"
     ]
    }
   ],
   "source": [
    "# calculate variances of data2\n",
    "x_var = np.var(data2.iloc[:,0])\n",
    "y_var = np.var(data2.iloc[:,1])\n",
    "\n",
    "# Print the results with three decimal places\n",
    "\n",
    "print(f\"The variance of the x-values is {x_var:.3f}.\")\n",
    "print(f\"The variance of the y-values is {y_var:.3f}.\")"
   ]
  },
  {
   "cell_type": "code",
   "execution_count": 45,
   "metadata": {},
   "outputs": [
    {
     "name": "stdout",
     "output_type": "stream",
     "text": [
      "The variance of the x-values is 10.890.\n",
      "The variance of the y-values is 4.122.\n"
     ]
    }
   ],
   "source": [
    "# calculate variances of data3\n",
    "x_var = np.var(data3.iloc[:,0])\n",
    "y_var = np.var(data3.iloc[:,1])\n",
    "\n",
    "# Print the results with three decimal places\n",
    "\n",
    "print(f\"The variance of the x-values is {x_var:.3f}.\")\n",
    "print(f\"The variance of the y-values is {y_var:.3f}.\")"
   ]
  },
  {
   "cell_type": "code",
   "execution_count": 46,
   "metadata": {},
   "outputs": [
    {
     "name": "stdout",
     "output_type": "stream",
     "text": [
      "The variance of the x-values is 10.890.\n",
      "The variance of the y-values is 4.030.\n"
     ]
    }
   ],
   "source": [
    "# calculate variances of data4\n",
    "x_var = np.var(data4.iloc[:,0])\n",
    "y_var = np.var(data4.iloc[:,1])\n",
    "\n",
    "# Print the results with three decimal places\n",
    "\n",
    "print(f\"The variance of the x-values is {x_var:.3f}.\")\n",
    "print(f\"The variance of the y-values is {y_var:.3f}.\")"
   ]
  },
  {
   "cell_type": "markdown",
   "metadata": {},
   "source": [
    "Use numpy to calculate the Pearson correlation between x and y-values for all four data sets (also print to three decimal places)."
   ]
  },
  {
   "cell_type": "code",
   "execution_count": 47,
   "metadata": {},
   "outputs": [
    {
     "name": "stdout",
     "output_type": "stream",
     "text": [
      "The Pearson correlation between the x-values is 0.815.\n"
     ]
    }
   ],
   "source": [
    "# calculate Pearson correlation between data1\n",
    "x_corr = np.corrcoef(data1.iloc[:,0], data1.iloc[:,1])[0,1]\n",
    "\n",
    "# Print the results with three decimal places\n",
    "\n",
    "print(f\"The Pearson correlation between the x-values is {x_corr:.3f}.\")"
   ]
  },
  {
   "cell_type": "code",
   "execution_count": 48,
   "metadata": {},
   "outputs": [
    {
     "name": "stdout",
     "output_type": "stream",
     "text": [
      "The Pearson correlation between the x-values is 0.823.\n"
     ]
    }
   ],
   "source": [
    "# calculate Pearson correlation between data2\n",
    "x_corr = np.corrcoef(data2.iloc[:,0], data2.iloc[:,1])[0,1]\n",
    "\n",
    "# Print the results with three decimal places\n",
    "\n",
    "print(f\"The Pearson correlation between the x-values is {x_corr:.3f}.\")"
   ]
  },
  {
   "cell_type": "code",
   "execution_count": 49,
   "metadata": {},
   "outputs": [
    {
     "name": "stdout",
     "output_type": "stream",
     "text": [
      "The Pearson correlation between the x-values is 0.821.\n"
     ]
    }
   ],
   "source": [
    "# calculate Pearson correlation between data3\n",
    "x_corr = np.corrcoef(data3.iloc[:,0], data3.iloc[:,1])[0,1]\n",
    "\n",
    "# Print the results with three decimal places\n",
    "\n",
    "print(f\"The Pearson correlation between the x-values is {x_corr:.3f}.\")"
   ]
  },
  {
   "cell_type": "code",
   "execution_count": 50,
   "metadata": {},
   "outputs": [
    {
     "name": "stdout",
     "output_type": "stream",
     "text": [
      "The Pearson correlation between the x-values is 0.815.\n"
     ]
    }
   ],
   "source": [
    "# calculate Pearson correlation between data4\n",
    "x_corr = np.corrcoef(data4.iloc[:,0], data4.iloc[:,1])[0,1]\n",
    "\n",
    "# Print the results with three decimal places\n",
    "\n",
    "print(f\"The Pearson correlation between the x-values is {x_corr:.3f}.\")"
   ]
  },
  {
   "cell_type": "markdown",
   "metadata": {},
   "source": [
    "The next step is use linear regression to fit a straight line through each dataset and report a and b (to two decimal places). An easy way to fit a straight line in Python is using scipy's linregress. "
   ]
  },
  {
   "cell_type": "code",
   "execution_count": 54,
   "metadata": {},
   "outputs": [
    {
     "name": "stdout",
     "output_type": "stream",
     "text": [
      "The slope of the linear regression for data1 is 0.50.\n",
      "The y-intercept of the linear regression for data1 is 3.00.\n",
      "The r-squared value of the linear regression for data1 is 0.81.\n",
      "The p-value of the linear regression for data1 is 0.00408.\n",
      "The standard error of the linear regression for data1 is 0.13.\n"
     ]
    }
   ],
   "source": [
    "# calculate a and b for data1 using scipy\n",
    "x = data1.iloc[:,0]\n",
    "y = data1.iloc[:,1]\n",
    "(a, b, r, p, std_err) = st.linregress(x, y)\n",
    "\n",
    "# Print the results with two decimal places\n",
    "print(f\"The slope of the linear regression for data1 is {a:.2f}.\")\n",
    "print(f\"The y-intercept of the linear regression for data1 is {b:.2f}.\")\n",
    "\n",
    "# print r, p, std_err\n",
    "\n",
    "print(f\"The r-squared value of the linear regression for data1 is {r:.2f}.\")\n",
    "print(f\"The p-value of the linear regression for data1 is {p:.5f}.\")\n",
    "print(f\"The standard error of the linear regression for data1 is {std_err:.2f}.\")\n"
   ]
  },
  {
   "cell_type": "code",
   "execution_count": 55,
   "metadata": {},
   "outputs": [
    {
     "name": "stdout",
     "output_type": "stream",
     "text": [
      "The slope of the linear regression for data1 is 0.49.\n",
      "The y-intercept of the linear regression for data1 is 2.99.\n",
      "The r-squared value of the linear regression for data1 is 0.82.\n",
      "The p-value of the linear regression for data1 is 0.00341.\n",
      "The standard error of the linear regression for data1 is 0.12.\n"
     ]
    }
   ],
   "source": [
    "# calculate a and b for data2 using scipy\n",
    "x = data2.iloc[:,0]\n",
    "y = data2.iloc[:,1]\n",
    "(a, b, r, p, std_err) = st.linregress(x, y)\n",
    "\n",
    "# Print the results with two decimal places\n",
    "print(f\"The slope of the linear regression for data1 is {a:.2f}.\")\n",
    "print(f\"The y-intercept of the linear regression for data1 is {b:.2f}.\")\n",
    "\n",
    "# print r, p, std_err\n",
    "\n",
    "print(f\"The r-squared value of the linear regression for data1 is {r:.2f}.\")\n",
    "print(f\"The p-value of the linear regression for data1 is {p:.5f}.\")\n",
    "print(f\"The standard error of the linear regression for data1 is {std_err:.2f}.\")\n"
   ]
  },
  {
   "cell_type": "code",
   "execution_count": 56,
   "metadata": {},
   "outputs": [
    {
     "name": "stdout",
     "output_type": "stream",
     "text": [
      "The slope of the linear regression for data1 is 0.51.\n",
      "The y-intercept of the linear regression for data1 is 3.01.\n",
      "The r-squared value of the linear regression for data1 is 0.82.\n",
      "The p-value of the linear regression for data1 is 0.00359.\n",
      "The standard error of the linear regression for data1 is 0.12.\n"
     ]
    }
   ],
   "source": [
    "# calculate a and b for data3 using scipy\n",
    "x = data3.iloc[:,0]\n",
    "y = data3.iloc[:,1]\n",
    "(a, b, r, p, std_err) = st.linregress(x, y)\n",
    "\n",
    "# Print the results with two decimal places\n",
    "print(f\"The slope of the linear regression for data1 is {a:.2f}.\")\n",
    "print(f\"The y-intercept of the linear regression for data1 is {b:.2f}.\")\n",
    "\n",
    "# print r, p, std_err\n",
    "\n",
    "print(f\"The r-squared value of the linear regression for data1 is {r:.2f}.\")\n",
    "print(f\"The p-value of the linear regression for data1 is {p:.5f}.\")\n",
    "print(f\"The standard error of the linear regression for data1 is {std_err:.2f}.\")\n"
   ]
  },
  {
   "cell_type": "code",
   "execution_count": 57,
   "metadata": {},
   "outputs": [
    {
     "name": "stdout",
     "output_type": "stream",
     "text": [
      "The slope of the linear regression for data1 is 0.50.\n",
      "The y-intercept of the linear regression for data1 is 3.08.\n",
      "The r-squared value of the linear regression for data1 is 0.81.\n",
      "The p-value of the linear regression for data1 is 0.00409.\n",
      "The standard error of the linear regression for data1 is 0.12.\n"
     ]
    }
   ],
   "source": [
    "# calculate a and b for data4 using scipy\n",
    "x = data4.iloc[:,0]\n",
    "y = data4.iloc[:,1]\n",
    "(a, b, r, p, std_err) = st.linregress(x, y)\n",
    "\n",
    "# Print the results with two decimal places\n",
    "print(f\"The slope of the linear regression for data1 is {a:.2f}.\")\n",
    "print(f\"The y-intercept of the linear regression for data1 is {b:.2f}.\")\n",
    "\n",
    "# print r, p, std_err\n",
    "\n",
    "print(f\"The r-squared value of the linear regression for data1 is {r:.2f}.\")\n",
    "print(f\"The p-value of the linear regression for data1 is {p:.5f}.\")\n",
    "print(f\"The standard error of the linear regression for data1 is {std_err:.2f}.\")\n"
   ]
  },
  {
   "cell_type": "markdown",
   "metadata": {},
   "source": [
    "Comment on the results from the previous steps. What do you observe?\n"
   ]
  },
  {
   "cell_type": "markdown",
   "metadata": {},
   "source": [
    "Finally, it's time to plot the four datasets using matplotlib.pyplot. Use a two-by-two subplot to put all of the plots nicely in a grid and use the same x and y range for all four plots. And include the linear fit in all four plots."
   ]
  },
  {
   "cell_type": "code",
   "execution_count": 71,
   "metadata": {},
   "outputs": [
    {
     "data": {
      "image/png": "[encoded data removed]",
      "text/plain": [
       "<Figure size 640x480 with 1 Axes>"
      ]
     },
     "metadata": {},
     "output_type": "display_data"
    }
   ],
   "source": [
    "# Plot data1 using a two-by-two subplot with a grid and use the same x and y range for all four plots.\n",
    "\n",
    "plt.subplot(2, 2, 1)\n",
    "plt.scatter(data1.iloc[:,0], data1.iloc[:,1])\n",
    "plt.xlabel('x')\n",
    "plt.ylabel('y')\n",
    "plt.title('data1')\n",
    "plt.grid(True)\n"
   ]
  },
  {
   "cell_type": "code",
   "execution_count": 70,
   "metadata": {},
   "outputs": [
    {
     "data": {
      "image/png": "[encoded data removed]",
      "text/plain": [
       "<Figure size 640x480 with 1 Axes>"
      ]
     },
     "metadata": {},
     "output_type": "display_data"
    }
   ],
   "source": [
    "# plot data2 using a two-by-two subplot with a grid and use the same x and y range for all four plots.\n",
    "\n",
    "plt.subplot(2, 2, 2)\n",
    "\n",
    "plt.scatter(data2.iloc[:,0], data2.iloc[:,1])\n",
    "\n",
    "plt.xlabel('x')\n",
    "\n",
    "plt.ylabel('y')\n",
    "\n",
    "plt.title('data2')\n",
    "\n",
    "plt.grid(True)\n"
   ]
  },
  {
   "cell_type": "code",
   "execution_count": 69,
   "metadata": {},
   "outputs": [
    {
     "data": {
      "image/png": "[encoded data removed]",
      "text/plain": [
       "<Figure size 640x480 with 1 Axes>"
      ]
     },
     "metadata": {},
     "output_type": "display_data"
    }
   ],
   "source": [
    "# plot data3 using a two-by-two subplot with a grid and use the same x and y range for all four plots.\n",
    "\n",
    "plt.subplot(2, 2, 3)\n",
    "\n",
    "plt.scatter(data3.iloc[:,0], data3.iloc[:,1])\n",
    "\n",
    "plt.xlabel('x')\n",
    "\n",
    "plt.ylabel('y')\n",
    "\n",
    "plt.title('data3')\n",
    "\n",
    "plt.grid(True)"
   ]
  },
  {
   "cell_type": "code",
   "execution_count": 68,
   "metadata": {},
   "outputs": [
    {
     "data": {
      "image/png": "[encoded data removed]",
      "text/plain": [
       "<Figure size 640x480 with 1 Axes>"
      ]
     },
     "metadata": {},
     "output_type": "display_data"
    }
   ],
   "source": [
    "# plot data4 using a two-by-two subplot with a grid and use the same x and\n",
    "\n",
    "plt.subplot(2, 2, 4)\n",
    "\n",
    "plt.scatter(data4.iloc[:,0], data4.iloc[:,1])\n",
    "\n",
    "plt.xlabel('x')\n",
    "\n",
    "plt.ylabel('y')\n",
    "\n",
    "plt.title('data4')\n",
    "\n",
    "plt.grid(True)"
   ]
  }
 ],
 "metadata": {
  "kernelspec": {
   "display_name": "Python 3",
   "language": "python",
   "name": "python3"
  },
  "language_info": {
   "codemirror_mode": {
    "name": "ipython",
    "version": 3
   },
   "file_extension": ".py",
   "mimetype": "text/x-python",
   "name": "python",
   "nbconvert_exporter": "python",
   "pygments_lexer": "ipython3",
   "version": "3.10.10"
  }
 },
 "nbformat": 4,
 "nbformat_minor": 2
}
